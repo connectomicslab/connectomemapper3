{
 "cells": [
  {
   "cell_type": "markdown",
   "id": "legal-possibility",
   "metadata": {},
   "source": [
    "# Sketch the prototype to convert a graphml node description file to BIDS TSV format"
   ]
  },
  {
   "cell_type": "markdown",
   "id": "following-rubber",
   "metadata": {},
   "source": [
    "## Define working directory"
   ]
  },
  {
   "cell_type": "code",
   "execution_count": 1,
   "id": "authentic-august",
   "metadata": {},
   "outputs": [],
   "source": [
    "work_dir = \"/Users/sebastientourbier/Documents/Postdoc/\""
   ]
  },
  {
   "cell_type": "markdown",
   "id": "universal-department",
   "metadata": {},
   "source": [
    "## Define a Nipype interface"
   ]
  },
  {
   "cell_type": "code",
   "execution_count": 2,
   "id": "increased-cylinder",
   "metadata": {},
   "outputs": [],
   "source": [
    "from nipype.interfaces.base import (\n",
    "    BaseInterfaceInputSpec,\n",
    "    BaseInterface,\n",
    "    TraitedSpec,\n",
    "    File\n",
    ")\n",
    "\n",
    "class CreateBIDSStandardParcellationLabelIndexMappingFile_InputSpec(BaseInterfaceInputSpec):\n",
    "    \"\"\"Specify the inputs of the :obj:`~cmtklib.bids.utils.CreateBIDSStandardParcellationLabelIndexMappingFile`.\"\"\"\n",
    "    roi_graphml = File(\n",
    "        mandatory=True,\n",
    "        exists=True,\n",
    "        desc=\"Path to graphml file that describes graph nodes for a given parcellation\"\n",
    "    )\n",
    "    roi_colorlut = File(\n",
    "        mandatory=True,\n",
    "        exists=True,\n",
    "        desc=\"Path to FreesurferColorLUT.txt file that describes the RGB color of the \"\n",
    "             \"graph nodes for a given parcellation\"\n",
    "    )\n",
    "    \n",
    "class CreateBIDSStandardParcellationLabelIndexMappingFile_OutputSpec(BaseInterfaceInputSpec):\n",
    "    \"\"\"Specify the output of the :obj:`~cmtklib.bids.utils.CreateBIDSStandardParcellationLabelIndexMappingFile`.\"\"\"\n",
    "    roi_bids_tsv = File(\n",
    "        exists=True,\n",
    "        desc=\"Output BIDS standard generic label-index mapping file that \"\n",
    "             \"describes parcellation nodes\"\n",
    "    )\n",
    "    \n",
    "class CreateBIDSStandardParcellationLabelIndexMappingFile(BaseInterface):\n",
    "    \"\"\"Creates the BIDS standard generic label-index mapping file that describes parcellation nodes\"\"\"\n",
    "    \n",
    "    input_spec = CreateBIDSStandardParcellationLabelIndexMappingFile_InputSpec\n",
    "    output_spec = CreateBIDSStandardParcellationLabelIndexMappingFile_OutputSpec\n",
    "    \n",
    "    def _run_interface(self, runtime):\n",
    "        import numpy as np\n",
    "        import re\n",
    "        import csv\n",
    "        import networkx as nx\n",
    "\n",
    "        # Extract code mapping from parcellation freesurfer color lookup table\n",
    "        with open(self.inputs.roi_colorlut, 'r') as f:\n",
    "            lut_content = f.readlines()\n",
    "\n",
    "        # Process line by line\n",
    "        rois_rgb = np.empty((0, 4), dtype=np.int64)\n",
    "        pattern = re.compile(r'\\d{1,5}[ ]+[a-zA-Z-_0-9*.]+[ ]+\\d{1,3}[ ]+\\d{1,3}[ ]+\\d{1,3}[ ]+\\d{1,3}')\n",
    "        for line in lut_content:\n",
    "            if pattern.match(line):\n",
    "                s = line.rstrip().split(' ')\n",
    "                s = list(filter(None, s))\n",
    "                rois_rgb = np.append(rois_rgb, np.array([[int(s[0]), int(s[2]), int(s[3]), int(s[4])]]), axis=0)\n",
    "                \n",
    "        # Read the graphml node description file\n",
    "        nodes_g = nx.readwrite.graphml.read_graphml(work_dir + \"sub-01_atlas-L2018_res-scale2_dseg.graphml\")\n",
    "        nodes = nodes_g.nodes(data=True)\n",
    "        del nodes_g\n",
    "        \n",
    "        # Create a dictionary conformed to BIDS with index, name, color, and mapping columns\n",
    "        output_bids_node_description = []\n",
    "        for node in nodes:\n",
    "            in_node_description = node[1]\n",
    "            out_node_description = {}\n",
    "            out_node_description['index'] = in_node_description['dn_multiscaleID']\n",
    "            out_node_description['name'] = in_node_description['dn_name'].lower()\n",
    "\n",
    "            # Convert RGB color to hexadecimal \n",
    "            r, g, b = (rois_rgb[rois_rgb[:,0]==out_node_description['index']][:,1],\n",
    "                       rois_rgb[rois_rgb[:,0]==out_node_description['index']][:,2],\n",
    "                       rois_rgb[rois_rgb[:,0]==out_node_description['index']][:,3])\n",
    "            out_node_description['color'] = '#%02x%02x%02x' % (r.squeeze(), g.squeeze(), b.squeeze())\n",
    "            \n",
    "            if 'brainstem' in in_node_description['dn_name']:\n",
    "                out_node_description['mapping'] = 10\n",
    "            else:\n",
    "                if 'subcortical' in in_node_description['dn_region']:\n",
    "                    out_node_description['mapping'] = 9\n",
    "                elif 'cortical' in in_node_description['dn_region']:\n",
    "                    out_node_description['mapping'] = 8\n",
    "\n",
    "            output_bids_node_description.append(out_node_description)\n",
    "            \n",
    "        # Write output TSV file\n",
    "        keys = ['index', 'name', 'color', 'mapping']\n",
    "        output_tsv_filename = self._gen_output_filename(self.inputs.roi_graphml)\n",
    "        with open(output_tsv_filename, 'w') as output_tsv_file:\n",
    "            dict_writer = csv.DictWriter(output_tsv_file, keys, delimiter='\\t')\n",
    "            dict_writer.writeheader()\n",
    "            dict_writer.writerows(output_bids_node_description)\n",
    "\n",
    "        return runtime\n",
    "    \n",
    "    def _list_outputs(self):\n",
    "        outputs = self._outputs().get()\n",
    "        outputs[\"roi_bids_tsv\"] = self._gen_output_filename(self.inputs.roi_graphml)\n",
    "        \n",
    "    def _gen_output_filename(self, input_file):\n",
    "        from pathlib import Path\n",
    "        fpath = Path(input_file)\n",
    "        return str(fpath.stem) + '.tsv'\n"
   ]
  },
  {
   "cell_type": "markdown",
   "id": "unsigned-oakland",
   "metadata": {},
   "source": [
    "## Test the interface"
   ]
  },
  {
   "cell_type": "code",
   "execution_count": 3,
   "id": "brown-baptist",
   "metadata": {},
   "outputs": [
    {
     "data": {
      "text/plain": [
       "<nipype.interfaces.base.support.InterfaceResult at 0x7fdca46284c0>"
      ]
     },
     "execution_count": 3,
     "metadata": {},
     "output_type": "execute_result"
    }
   ],
   "source": [
    "create_bids_code_description = CreateBIDSStandardParcellationLabelIndexMappingFile()\n",
    "create_bids_code_description.inputs.roi_graphml = work_dir + \"sub-01_atlas-L2018_res-scale2_dseg.graphml\"\n",
    "create_bids_code_description.inputs.roi_colorlut = work_dir + \"sub-01_atlas-L2018_res-scale2_FreeSurferColorLUT.txt\"\n",
    "create_bids_code_description.run()"
   ]
  },
  {
   "cell_type": "code",
   "execution_count": null,
   "id": "handled-brooklyn",
   "metadata": {},
   "outputs": [],
   "source": []
  }
 ],
 "metadata": {
  "kernelspec": {
   "display_name": "Python 3",
   "language": "python",
   "name": "python3"
  },
  "language_info": {
   "codemirror_mode": {
    "name": "ipython",
    "version": 3
   },
   "file_extension": ".py",
   "mimetype": "text/x-python",
   "name": "python",
   "nbconvert_exporter": "python",
   "pygments_lexer": "ipython3",
   "version": "3.8.3"
  }
 },
 "nbformat": 4,
 "nbformat_minor": 5
}
