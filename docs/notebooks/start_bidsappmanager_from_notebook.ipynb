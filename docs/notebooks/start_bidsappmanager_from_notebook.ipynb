{
 "cells": [
  {
   "cell_type": "code",
   "execution_count": 1,
   "metadata": {},
   "outputs": [
    {
     "name": "stdout",
     "output_type": "stream",
     "text": [
      "Graphical Backend : qt4\n",
      "\n",
      "Connectome Mapper 3.0.0-beta - BIDS App Manager \n",
      "Copyright (C) 2017-2019, Brain Communication Pathways Sinergia Consortium, Switzerland. All rights reserved.\n",
      "\n"
     ]
    }
   ],
   "source": [
    "#!/usr/bin/env python\n",
    "#-*- coding:utf-8 -*-\n",
    "\n",
    "import sys\n",
    "import os\n",
    "\n",
    "#Setup Qt5 backend for traitsui\n",
    "os.environ['ETS_TOOLKIT'] = 'qt4'\n",
    "os.environ['QT_API'] = 'pyqt5'\n",
    "\n",
    "import subprocess\n",
    "\n",
    "#BIDS import\n",
    "from bids import BIDSLayout\n",
    "\n",
    "from traits.etsconfig.api import ETSConfig\n",
    "print(\"Graphical Backend : {}\".format(ETSConfig.toolkit))\n",
    "\n",
    "#CMP imports\n",
    "from cmp.bidsappmanager import gui\n",
    "\n",
    "from cmp.info import __version__\n",
    "\n",
    "\n",
    "def info():\n",
    "    print(\"\\nConnectome Mapper {} - BIDS App Manager \".format(__version__))\n",
    "    print(\"\"\"Copyright (C) 2017-2019, Brain Communication Pathways Sinergia Consortium, Switzerland. All rights reserved.\\n\"\"\")\n",
    "def usage():\n",
    "    print(\"Usage : cmpbidsappmanager \")\n",
    "\n",
    "# Checks the needed dependencies. We call directly the functions instead\n",
    "# of just checking existence in $PATH in order to handl missing libraries.\n",
    "# Note that not all the commands give the awaited 1 exit code...\n",
    "def dep_check():\n",
    "\n",
    "    nul = open(os.devnull, 'w')\n",
    "\n",
    "    error = \"\"\n",
    "\n",
    "    # TODO try import all dependencies\n",
    "\n",
    "    if error != \"\":\n",
    "        print error\n",
    "        sys.exit(2)\n",
    "\n",
    "\n",
    "dep_check()\n",
    "\n",
    "# add current directory to the path, useful if DTB_ bins not installed\n",
    "os.environ[\"PATH\"] += os.pathsep + os.path.dirname(sys.argv[0])\n",
    "\n",
    "# version and copyright message\n",
    "info()\n",
    "\n",
    "# launch the GUI\n",
    "#traitsui.wx.constants.WindowColor = wx.SystemSettings.GetColour(wx.SYS_COLOUR_BTNFACE)\n",
    "mw = gui.MainWindow()\n",
    "mw_res = mw.configure_traits()\n"
   ]
  }
 ],
 "metadata": {
  "kernelspec": {
   "display_name": "Python 2",
   "language": "python",
   "name": "python2"
  },
  "language_info": {
   "codemirror_mode": {
    "name": "ipython",
    "version": 2
   },
   "file_extension": ".py",
   "mimetype": "text/x-python",
   "name": "python",
   "nbconvert_exporter": "python",
   "pygments_lexer": "ipython2",
   "version": "2.7.13"
  }
 },
 "nbformat": 4,
 "nbformat_minor": 2
}
